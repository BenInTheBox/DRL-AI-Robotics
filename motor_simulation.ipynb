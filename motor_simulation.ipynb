{
 "cells": [
  {
   "cell_type": "markdown",
   "metadata": {},
   "source": [
    "# Plateau angle simulation\n",
    "## Goal\n",
    "The goal of this part is to create a simulation of the relationship between inputs and the motor angles. To do so, a neural network will be trained, using pytorch, in order to simulate the system.\n",
    "\n",
    "## External imports"
   ]
  },
  {
   "cell_type": "code",
   "execution_count": 18,
   "metadata": {},
   "outputs": [],
   "source": [
    "import numpy as np\n",
    "import pandas as pd\n",
    "import csv\n",
    "import os\n",
    "import matplotlib\n",
    "import matplotlib.pyplot as plt\n",
    "\n",
    "from torch.autograd import Variable\n",
    "\n",
    "%matplotlib inline"
   ]
  },
  {
   "cell_type": "markdown",
   "metadata": {},
   "source": [
    "## Internal imports"
   ]
  },
  {
   "cell_type": "code",
   "execution_count": 19,
   "metadata": {},
   "outputs": [],
   "source": [
    "from src import *"
   ]
  },
  {
   "cell_type": "markdown",
   "metadata": {},
   "source": [
    "## Data preparation\n",
    "\n",
    "In this part, the recorded data are loaded and prepared. The goal is to train the neural network on those datas."
   ]
  },
  {
   "cell_type": "code",
   "execution_count": 20,
   "metadata": {},
   "outputs": [],
   "source": [
    "dt = 0.007"
   ]
  },
  {
   "cell_type": "code",
   "execution_count": 21,
   "metadata": {},
   "outputs": [],
   "source": [
    "name_list = os.listdir('src/data/train')\n",
    "datas = [pd.read_csv('src/data/train/{}'.format(x)) for x in name_list]"
   ]
  },
  {
   "cell_type": "markdown",
   "metadata": {},
   "source": [
    "Data visualisation"
   ]
  },
  {
   "cell_type": "code",
   "execution_count": 22,
   "metadata": {},
   "outputs": [
    {
     "data": {
      "image/png": "[encoded data removed]",
      "text/plain": [
       "<Figure size 432x288 with 2 Axes>"
      ]
     },
     "metadata": {
      "needs_background": "light"
     },
     "output_type": "display_data"
    },
    {
     "data": {
      "image/png": "[encoded data removed]",
      "text/plain": [
       "<Figure size 432x288 with 2 Axes>"
      ]
     },
     "metadata": {
      "needs_background": "light"
     },
     "output_type": "display_data"
    }
   ],
   "source": [
    "for data in datas:\n",
    "    fig, axs = plt.subplots(2, 1)\n",
    "    \n",
    "    axs[0].plot(data['angle_x'], label='x')\n",
    "    axs[0].plot(data['angle_y'], label='y')\n",
    "    axs[0].set_ylabel('angle')\n",
    "    axs[0].legend()\n",
    "    \n",
    "    axs[1].plot(data['input_x'], label='x')\n",
    "    axs[1].plot(data['input_y'], label='y')\n",
    "    axs[1].set_ylabel('input')\n",
    "    axs[1].legend()"
   ]
  },
  {
   "cell_type": "markdown",
   "metadata": {},
   "source": [
    "The input of the NN will be the inputs and speed. Thus, it is computed for each dataset.\n",
    "\n",
    "The prediction of the neural network will be the speed to the next timestep.\n",
    "\n",
    "All datasets are concatened and shuffled in order to have no-biased gradients during the training"
   ]
  },
  {
   "cell_type": "code",
   "execution_count": 23,
   "metadata": {},
   "outputs": [],
   "source": [
    "for data in datas:\n",
    "    data['d_angle_x'] = (data['angle_x'] - data['angle_x'].shift(1)) / dt\n",
    "    data['d_angle_y'] = (data['angle_y'] - data['angle_y'].shift(1)) / dt\n",
    "    data['target_x'] = data['d_angle_x'].shift(-1)\n",
    "    data['target_y'] = data['d_angle_y'].shift(-1)\n",
    "    \n",
    "    data.dropna(inplace=True)\n",
    "    \n",
    "data = datas[0]\n",
    "for df in datas[1:]:\n",
    "    data.append(df)\n",
    "data = data.sample(frac=1)\n",
    "data.reset_index(inplace=True)"
   ]
  },
  {
   "cell_type": "code",
   "execution_count": 24,
   "metadata": {},
   "outputs": [
    {
     "data": {
      "text/html": [
       "<div>\n",
       "<style scoped>\n",
       "    .dataframe tbody tr th:only-of-type {\n",
       "        vertical-align: middle;\n",
       "    }\n",
       "\n",
       "    .dataframe tbody tr th {\n",
       "        vertical-align: top;\n",
       "    }\n",
       "\n",
       "    .dataframe thead th {\n",
       "        text-align: right;\n",
       "    }\n",
       "</style>\n",
       "<table border=\"1\" class=\"dataframe\">\n",
       "  <thead>\n",
       "    <tr style=\"text-align: right;\">\n",
       "      <th></th>\n",
       "      <th>index</th>\n",
       "      <th>x</th>\n",
       "      <th>y</th>\n",
       "      <th>angle_x</th>\n",
       "      <th>angle_y</th>\n",
       "      <th>input_x</th>\n",
       "      <th>input_y</th>\n",
       "      <th>d_angle_x</th>\n",
       "      <th>d_angle_y</th>\n",
       "      <th>target_x</th>\n",
       "      <th>target_y</th>\n",
       "    </tr>\n",
       "  </thead>\n",
       "  <tbody>\n",
       "    <tr>\n",
       "      <th>0</th>\n",
       "      <td>24</td>\n",
       "      <td>0.2</td>\n",
       "      <td>0.1</td>\n",
       "      <td>21.2</td>\n",
       "      <td>12.4</td>\n",
       "      <td>1.8</td>\n",
       "      <td>2.75</td>\n",
       "      <td>0.0</td>\n",
       "      <td>0.0</td>\n",
       "      <td>0.0</td>\n",
       "      <td>0.0</td>\n",
       "    </tr>\n",
       "    <tr>\n",
       "      <th>1</th>\n",
       "      <td>33</td>\n",
       "      <td>0.2</td>\n",
       "      <td>0.1</td>\n",
       "      <td>21.2</td>\n",
       "      <td>12.4</td>\n",
       "      <td>1.8</td>\n",
       "      <td>2.75</td>\n",
       "      <td>0.0</td>\n",
       "      <td>0.0</td>\n",
       "      <td>0.0</td>\n",
       "      <td>0.0</td>\n",
       "    </tr>\n",
       "    <tr>\n",
       "      <th>2</th>\n",
       "      <td>34</td>\n",
       "      <td>0.2</td>\n",
       "      <td>0.1</td>\n",
       "      <td>21.2</td>\n",
       "      <td>12.4</td>\n",
       "      <td>1.8</td>\n",
       "      <td>2.75</td>\n",
       "      <td>0.0</td>\n",
       "      <td>0.0</td>\n",
       "      <td>0.0</td>\n",
       "      <td>0.0</td>\n",
       "    </tr>\n",
       "    <tr>\n",
       "      <th>3</th>\n",
       "      <td>15</td>\n",
       "      <td>0.2</td>\n",
       "      <td>0.1</td>\n",
       "      <td>21.2</td>\n",
       "      <td>12.4</td>\n",
       "      <td>1.8</td>\n",
       "      <td>2.75</td>\n",
       "      <td>0.0</td>\n",
       "      <td>0.0</td>\n",
       "      <td>0.0</td>\n",
       "      <td>0.0</td>\n",
       "    </tr>\n",
       "    <tr>\n",
       "      <th>4</th>\n",
       "      <td>12</td>\n",
       "      <td>0.2</td>\n",
       "      <td>0.1</td>\n",
       "      <td>21.2</td>\n",
       "      <td>12.4</td>\n",
       "      <td>1.8</td>\n",
       "      <td>2.75</td>\n",
       "      <td>0.0</td>\n",
       "      <td>0.0</td>\n",
       "      <td>0.0</td>\n",
       "      <td>0.0</td>\n",
       "    </tr>\n",
       "  </tbody>\n",
       "</table>\n",
       "</div>"
      ],
      "text/plain": [
       "   index    x    y  angle_x  angle_y  input_x  input_y  d_angle_x  d_angle_y  \\\n",
       "0     24  0.2  0.1     21.2     12.4      1.8     2.75        0.0        0.0   \n",
       "1     33  0.2  0.1     21.2     12.4      1.8     2.75        0.0        0.0   \n",
       "2     34  0.2  0.1     21.2     12.4      1.8     2.75        0.0        0.0   \n",
       "3     15  0.2  0.1     21.2     12.4      1.8     2.75        0.0        0.0   \n",
       "4     12  0.2  0.1     21.2     12.4      1.8     2.75        0.0        0.0   \n",
       "\n",
       "   target_x  target_y  \n",
       "0       0.0       0.0  \n",
       "1       0.0       0.0  \n",
       "2       0.0       0.0  \n",
       "3       0.0       0.0  \n",
       "4       0.0       0.0  "
      ]
     },
     "execution_count": 24,
     "metadata": {},
     "output_type": "execute_result"
    }
   ],
   "source": [
    "data.head()"
   ]
  },
  {
   "cell_type": "markdown",
   "metadata": {},
   "source": [
    "Finally, the inputs and targets are converted into pytorch format"
   ]
  },
  {
   "cell_type": "code",
   "execution_count": 38,
   "metadata": {},
   "outputs": [],
   "source": [
    "x, y = Variable(torch.from_numpy(data[['d_angle_x', 'd_angle_y']].to_numpy()).type(torch.FloatTensor)), Variable(torch.from_numpy(data[['target_x', 'target_y']].to_numpy()).type(torch.FloatTensor))"
   ]
  },
  {
   "cell_type": "markdown",
   "metadata": {},
   "source": [
    "# Neural network training\n",
    "In this section, multiples NN are created and trained to model the system"
   ]
  },
  {
   "cell_type": "code",
   "execution_count": 39,
   "metadata": {},
   "outputs": [],
   "source": [
    "nets = [PlateauNet0Hidden(2,2), PlateauNet1Hidden(2, 2, 2), PlateauNet1Hidden(2, 3, 2), PlateauNet1Hidden(2, 4, 2), \n",
    "        PlateauNet1Hidden(2, 8, 2), PlateauNet2Hidden(2, 4, 3, 2), PlateauNet2Hidden(2, 5, 3, 2),\n",
    "       PlateauNet2Hidden(2, 6, 3, 2), PlateauNet2Hidden(2, 8, 4, 2), PlateauNet2Hidden(2, 12, 7, 2)]"
   ]
  },
  {
   "cell_type": "code",
   "execution_count": 40,
   "metadata": {},
   "outputs": [
    {
     "data": {
      "text/plain": [
       "tensor([[-0.5855,  0.1459],\n",
       "        [-0.5855,  0.1459],\n",
       "        [-0.5855,  0.1459],\n",
       "        [-0.5855,  0.1459],\n",
       "        [-0.5855,  0.1459],\n",
       "        [-0.5855,  0.1459],\n",
       "        [-0.5855,  0.1459],\n",
       "        [ 4.3455, -0.3342],\n",
       "        [-0.5855,  0.1459],\n",
       "        [-0.5855,  0.1459],\n",
       "        [-0.5855,  0.1459],\n",
       "        [-0.5855,  0.1459],\n",
       "        [-0.5855,  0.1459],\n",
       "        [-0.5855,  0.1459],\n",
       "        [-0.5855,  0.1459],\n",
       "        [-0.5855,  0.1459],\n",
       "        [ 1.8800, -0.0942],\n",
       "        [-0.5855,  0.1459],\n",
       "        [ 1.8800, -0.0942],\n",
       "        [-0.5855,  0.1459],\n",
       "        [-0.5855,  0.1459],\n",
       "        [-0.5855,  0.1459],\n",
       "        [-0.5855,  0.1459],\n",
       "        [-0.5855,  0.1459],\n",
       "        [48.7242, -4.6545],\n",
       "        [-0.5855,  0.1459],\n",
       "        [-0.5855,  0.1459],\n",
       "        [ 1.8800, -0.0942],\n",
       "        [-3.0510,  0.3859],\n",
       "        [-0.5855,  0.1459],\n",
       "        [-0.5855,  0.1459],\n",
       "        [68.4481, -6.5747],\n",
       "        [-0.5855,  0.1459],\n",
       "        [-0.5855,  0.1459],\n",
       "        [-0.5855,  0.1459],\n",
       "        [-0.5855,  0.1459]], grad_fn=<AddmmBackward>)"
      ]
     },
     "execution_count": 40,
     "metadata": {},
     "output_type": "execute_result"
    }
   ],
   "source": [
    "nets[0](x)"
   ]
  },
  {
   "cell_type": "code",
   "execution_count": null,
   "metadata": {},
   "outputs": [],
   "source": []
  }
 ],
 "metadata": {
  "kernelspec": {
   "display_name": "Python 3",
   "language": "python",
   "name": "python3"
  },
  "language_info": {
   "codemirror_mode": {
    "name": "ipython",
    "version": 3
   },
   "file_extension": ".py",
   "mimetype": "text/x-python",
   "name": "python",
   "nbconvert_exporter": "python",
   "pygments_lexer": "ipython3",
   "version": "3.6.9"
  }
 },
 "nbformat": 4,
 "nbformat_minor": 4
}
